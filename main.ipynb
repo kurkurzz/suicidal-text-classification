{
 "cells": [
  {
   "cell_type": "code",
   "execution_count": null,
   "id": "0fa625b0",
   "metadata": {},
   "outputs": [],
   "source": [
    "!python -m spacy download en_core_web_sm"
   ]
  },
  {
   "cell_type": "code",
   "execution_count": 3,
   "id": "d88253a5",
   "metadata": {},
   "outputs": [],
   "source": [
    "import random\n",
    "\n",
    "import pandas as pd\n",
    "import matplotlib.pyplot as plt\n",
    "import seaborn as sns\n",
    "import spacy\n",
    "import numpy as np"
   ]
  },
  {
   "cell_type": "code",
   "execution_count": 4,
   "id": "848e6bb5",
   "metadata": {},
   "outputs": [],
   "source": [
    "from tqdm.auto import tqdm\n",
    "tqdm.pandas()"
   ]
  },
  {
   "cell_type": "markdown",
   "id": "5242ba5e",
   "metadata": {},
   "source": [
    "## Data Preprocessing"
   ]
  },
  {
   "cell_type": "code",
   "execution_count": 3,
   "id": "d17521ee",
   "metadata": {},
   "outputs": [
    {
     "data": {
      "text/html": [
       "<div>\n",
       "<style scoped>\n",
       "    .dataframe tbody tr th:only-of-type {\n",
       "        vertical-align: middle;\n",
       "    }\n",
       "\n",
       "    .dataframe tbody tr th {\n",
       "        vertical-align: top;\n",
       "    }\n",
       "\n",
       "    .dataframe thead th {\n",
       "        text-align: right;\n",
       "    }\n",
       "</style>\n",
       "<table border=\"1\" class=\"dataframe\">\n",
       "  <thead>\n",
       "    <tr style=\"text-align: right;\">\n",
       "      <th></th>\n",
       "      <th>text</th>\n",
       "      <th>class</th>\n",
       "    </tr>\n",
       "  </thead>\n",
       "  <tbody>\n",
       "    <tr>\n",
       "      <th>2</th>\n",
       "      <td>Ex Wife Threatening SuicideRecently I left my ...</td>\n",
       "      <td>suicide</td>\n",
       "    </tr>\n",
       "    <tr>\n",
       "      <th>3</th>\n",
       "      <td>Am I weird I don't get affected by compliments...</td>\n",
       "      <td>non-suicide</td>\n",
       "    </tr>\n",
       "    <tr>\n",
       "      <th>4</th>\n",
       "      <td>Finally 2020 is almost over... So I can never ...</td>\n",
       "      <td>non-suicide</td>\n",
       "    </tr>\n",
       "    <tr>\n",
       "      <th>8</th>\n",
       "      <td>i need helpjust help me im crying so hard</td>\n",
       "      <td>suicide</td>\n",
       "    </tr>\n",
       "    <tr>\n",
       "      <th>9</th>\n",
       "      <td>I’m so lostHello, my name is Adam (16) and I’v...</td>\n",
       "      <td>suicide</td>\n",
       "    </tr>\n",
       "  </tbody>\n",
       "</table>\n",
       "</div>"
      ],
      "text/plain": [
       "                                                text        class\n",
       "2  Ex Wife Threatening SuicideRecently I left my ...      suicide\n",
       "3  Am I weird I don't get affected by compliments...  non-suicide\n",
       "4  Finally 2020 is almost over... So I can never ...  non-suicide\n",
       "8          i need helpjust help me im crying so hard      suicide\n",
       "9  I’m so lostHello, my name is Adam (16) and I’v...      suicide"
      ]
     },
     "execution_count": 3,
     "metadata": {},
     "output_type": "execute_result"
    }
   ],
   "source": [
    "df = pd.read_csv('suicide_detection.csv', index_col='Unnamed: 0')\n",
    "df.head()"
   ]
  },
  {
   "cell_type": "code",
   "execution_count": 17,
   "id": "8017a97b",
   "metadata": {},
   "outputs": [
    {
     "data": {
      "text/plain": [
       "<AxesSubplot:xlabel='class', ylabel='count'>"
      ]
     },
     "execution_count": 17,
     "metadata": {},
     "output_type": "execute_result"
    },
    {
     "data": {
      "image/png": "[encoded data removed]",
      "text/plain": [
       "<Figure size 432x288 with 1 Axes>"
      ]
     },
     "metadata": {
      "needs_background": "light"
     },
     "output_type": "display_data"
    }
   ],
   "source": [
    "sns.countplot(data=df, x='class')"
   ]
  },
  {
   "cell_type": "code",
   "execution_count": 3,
   "id": "9413fe33",
   "metadata": {},
   "outputs": [],
   "source": [
    "nlp = spacy.load('en_core_web_sm', disable = ['parser', 'ner'])"
   ]
  },
  {
   "cell_type": "code",
   "execution_count": 4,
   "id": "a17c48d6",
   "metadata": {},
   "outputs": [
    {
     "data": {
      "text/plain": [
       "[('tok2vec', <spacy.pipeline.tok2vec.Tok2Vec at 0x2450964e280>),\n",
       " ('tagger', <spacy.pipeline.tagger.Tagger at 0x2450964edc0>),\n",
       " ('attribute_ruler',\n",
       "  <spacy.pipeline.attributeruler.AttributeRuler at 0x245096f2f00>),\n",
       " ('lemmatizer', <spacy.lang.en.lemmatizer.EnglishLemmatizer at 0x245096d6c80>)]"
      ]
     },
     "execution_count": 4,
     "metadata": {},
     "output_type": "execute_result"
    }
   ],
   "source": [
    "nlp.pipeline"
   ]
  },
  {
   "cell_type": "code",
   "execution_count": 102,
   "id": "76c2df8e",
   "metadata": {},
   "outputs": [],
   "source": [
    "def clean_text(text):\n",
    "    text = text.lower()\n",
    "    doc = nlp(text)\n",
    "    \n",
    "    text = ' '.join(token.lemma_ for token in nlp(text) if\n",
    "              not token.is_punct\n",
    "              and not token.is_currency\n",
    "              and not token.is_digit\n",
    "              and not token.is_punct\n",
    "              and not token.is_space\n",
    "#               and not token.is_stop\n",
    "              and not token.like_num\n",
    "#               and not token.pos_ == \"PROPN\"\n",
    "                   )\n",
    "    return text"
   ]
  },
  {
   "cell_type": "code",
   "execution_count": 105,
   "id": "2e0ceb96",
   "metadata": {},
   "outputs": [
    {
     "data": {
      "application/vnd.jupyter.widget-view+json": {
       "model_id": "b7c44fd50ea14a6db8819a68c450afda",
       "version_major": 2,
       "version_minor": 0
      },
      "text/plain": [
       "  0%|          | 0/232074 [00:00<?, ?it/s]"
      ]
     },
     "metadata": {},
     "output_type": "display_data"
    }
   ],
   "source": [
    "df['text'] = df['text'].progress_apply(clean_text)"
   ]
  },
  {
   "cell_type": "code",
   "execution_count": 18,
   "id": "164ead0e",
   "metadata": {},
   "outputs": [],
   "source": [
    "def count_token(text):\n",
    "    try:\n",
    "        return len(nlp(text))\n",
    "    except:\n",
    "        return 0"
   ]
  },
  {
   "cell_type": "code",
   "execution_count": 19,
   "id": "c234cd8f",
   "metadata": {},
   "outputs": [
    {
     "data": {
      "application/vnd.jupyter.widget-view+json": {
       "model_id": "b11d81579e8e4850a16557a448683105",
       "version_major": 2,
       "version_minor": 0
      },
      "text/plain": [
       "  0%|          | 0/232074 [00:00<?, ?it/s]"
      ]
     },
     "metadata": {},
     "output_type": "display_data"
    }
   ],
   "source": [
    "df['token_number'] = df['text'].progress_apply(count_token)"
   ]
  },
  {
   "cell_type": "code",
   "execution_count": null,
   "id": "bee762c2",
   "metadata": {},
   "outputs": [],
   "source": [
    "df.to_csv('suicide_detection_cleaned.csv', index=False)"
   ]
  },
  {
   "cell_type": "markdown",
   "id": "2e20df5b",
   "metadata": {},
   "source": [
    "## Scope Data"
   ]
  },
  {
   "cell_type": "code",
   "execution_count": null,
   "id": "93b4647a",
   "metadata": {},
   "outputs": [],
   "source": [
    "df = pd.read_csv('suicide_detection_cleaned.csv')"
   ]
  },
  {
   "cell_type": "code",
   "execution_count": null,
   "id": "8c91e4b9",
   "metadata": {},
   "outputs": [],
   "source": [
    "use_df = df[(df['token_number']<=100) & (df['token_number']>0)]\n",
    "print(f'df rows: {len(use_df)}')\n",
    "print(f'percentage of new df: {len(use_df)/len(df)*100}')"
   ]
  },
  {
   "cell_type": "code",
   "execution_count": 10,
   "id": "634fb373",
   "metadata": {},
   "outputs": [],
   "source": [
    "df = df[(df['token_number']<=100) & (df['token_number']>0)]"
   ]
  },
  {
   "cell_type": "code",
   "execution_count": 11,
   "id": "e3ea16eb",
   "metadata": {},
   "outputs": [
    {
     "data": {
      "text/plain": [
       "<AxesSubplot:xlabel='token_number', ylabel='Count'>"
      ]
     },
     "execution_count": 11,
     "metadata": {},
     "output_type": "execute_result"
    },
    {
     "data": {
      "image/png": "[encoded data removed]",
      "text/plain": [
       "<Figure size 432x288 with 1 Axes>"
      ]
     },
     "metadata": {
      "needs_background": "light"
     },
     "output_type": "display_data"
    }
   ],
   "source": [
    "sns.histplot(df['token_number'])"
   ]
  },
  {
   "cell_type": "code",
   "execution_count": 24,
   "id": "43e84fb8",
   "metadata": {},
   "outputs": [
    {
     "data": {
      "text/html": [
       "<div>\n",
       "<style scoped>\n",
       "    .dataframe tbody tr th:only-of-type {\n",
       "        vertical-align: middle;\n",
       "    }\n",
       "\n",
       "    .dataframe tbody tr th {\n",
       "        vertical-align: top;\n",
       "    }\n",
       "\n",
       "    .dataframe thead th {\n",
       "        text-align: right;\n",
       "    }\n",
       "</style>\n",
       "<table border=\"1\" class=\"dataframe\">\n",
       "  <thead>\n",
       "    <tr style=\"text-align: right;\">\n",
       "      <th></th>\n",
       "      <th>text</th>\n",
       "      <th>class</th>\n",
       "      <th>token_number</th>\n",
       "      <th>tuples</th>\n",
       "    </tr>\n",
       "  </thead>\n",
       "  <tbody>\n",
       "    <tr>\n",
       "      <th>1</th>\n",
       "      <td>be I weird I do not get affect by compliment i...</td>\n",
       "      <td>0</td>\n",
       "      <td>29</td>\n",
       "      <td>(be I weird I do not get affect by compliment ...</td>\n",
       "    </tr>\n",
       "    <tr>\n",
       "      <th>2</th>\n",
       "      <td>finally be almost over so I can never hear hav...</td>\n",
       "      <td>0</td>\n",
       "      <td>25</td>\n",
       "      <td>(finally be almost over so I can never hear ha...</td>\n",
       "    </tr>\n",
       "    <tr>\n",
       "      <th>3</th>\n",
       "      <td>I need helpjust help I I m cry so hard</td>\n",
       "      <td>1</td>\n",
       "      <td>10</td>\n",
       "      <td>(I need helpjust help I I m cry so hard, 1)</td>\n",
       "    </tr>\n",
       "    <tr>\n",
       "      <th>7</th>\n",
       "      <td>it end tonight.i can not do it anymore I quit</td>\n",
       "      <td>1</td>\n",
       "      <td>10</td>\n",
       "      <td>(it end tonight.i can not do it anymore I quit...</td>\n",
       "    </tr>\n",
       "    <tr>\n",
       "      <th>10</th>\n",
       "      <td>I take the rest of my sleeping pill and my pai...</td>\n",
       "      <td>1</td>\n",
       "      <td>33</td>\n",
       "      <td>(I take the rest of my sleeping pill and my pa...</td>\n",
       "    </tr>\n",
       "  </tbody>\n",
       "</table>\n",
       "</div>"
      ],
      "text/plain": [
       "                                                 text  class  token_number  \\\n",
       "1   be I weird I do not get affect by compliment i...      0            29   \n",
       "2   finally be almost over so I can never hear hav...      0            25   \n",
       "3              I need helpjust help I I m cry so hard      1            10   \n",
       "7       it end tonight.i can not do it anymore I quit      1            10   \n",
       "10  I take the rest of my sleeping pill and my pai...      1            33   \n",
       "\n",
       "                                               tuples  \n",
       "1   (be I weird I do not get affect by compliment ...  \n",
       "2   (finally be almost over so I can never hear ha...  \n",
       "3         (I need helpjust help I I m cry so hard, 1)  \n",
       "7   (it end tonight.i can not do it anymore I quit...  \n",
       "10  (I take the rest of my sleeping pill and my pa...  "
      ]
     },
     "execution_count": 24,
     "metadata": {},
     "output_type": "execute_result"
    }
   ],
   "source": [
    "df.head()"
   ]
  },
  {
   "cell_type": "markdown",
   "id": "614cbc31",
   "metadata": {},
   "source": [
    "## Data Formatting and Splitting"
   ]
  },
  {
   "cell_type": "code",
   "execution_count": 27,
   "id": "c1cbede7",
   "metadata": {},
   "outputs": [
    {
     "data": {
      "text/plain": [
       "[('be I weird I do not get affect by compliment if it be come from someone I know irl but I feel really good when internet stranger do it',\n",
       "  0),\n",
       " ('finally be almost over so I can never hear have be a bad year ever again I swear to fucking god it be so annoying',\n",
       "  0),\n",
       " ('I need helpjust help I I m cry so hard', 1),\n",
       " ('it end tonight.i can not do it anymore I quit', 1),\n",
       " ('I take the rest of my sleeping pill and my painkillersi can not wait for it to end I ’ve struggle for the past year and I ’m finally end it',\n",
       "  1),\n",
       " ('can you imagine get old I neither.wrinkle weight gain hair loss mess up tooth and bone health issue menopause hormone hate new generation amp the way world progress be a useless angry piece of shit who can not take care of itself be totally depend on people who secretly want you to die already can you even imagine yourself there absolutely not even if I be happy I would take my life just to avoid this',\n",
       "  1),\n",
       " ('do you think get hit by a train would be painful?gun be hard to come by in my country but train be not I just do not want to suffer though do you think this would be a painless method of suicide',\n",
       "  1),\n",
       " ('be arrest feel suicidaledit', 1),\n",
       " ('fuck the verizon smart family app I can not even watch porn privately anymore wtf why be that a feature',\n",
       "  0),\n",
       " ('well I m screw I lock myself in the school toilet and can not get out for now edit I be out now I live to tell the story',\n",
       "  0)]"
      ]
     },
     "execution_count": 27,
     "metadata": {},
     "output_type": "execute_result"
    }
   ],
   "source": [
    "df['tuples'] = df.apply(lambda x: (x['text'], x['class']), axis=1)\n",
    "data = df['tuples'].tolist()\n",
    "data[:10]"
   ]
  },
  {
   "cell_type": "code",
   "execution_count": 33,
   "id": "e2b90ef2",
   "metadata": {},
   "outputs": [],
   "source": [
    "def load_data(data, limit=0, split=(0.7, 0.2, 0.1)):\n",
    "    # Shuffle the data\n",
    "    random.shuffle(data)\n",
    "    texts, labels = zip(*data)\n",
    "\n",
    "    # Splitting the training and evaluation data\n",
    "    split_train = int(len(data) * split[0])\n",
    "    split_val = int(len(data) * (split[0]+split[1]))\n",
    "    return (texts[:split_train], labels[:split_train]), (texts[split_train:split_val], labels[split_train:split_val]), (texts[split_val:], labels[split_val:])"
   ]
  },
  {
   "cell_type": "code",
   "execution_count": 34,
   "id": "9f124340",
   "metadata": {},
   "outputs": [],
   "source": [
    "(train_texts, train_cats), (val_texts, val_cats), (test_texts, test_cats)  = load_data(data, limit=len(data))"
   ]
  },
  {
   "cell_type": "code",
   "execution_count": 41,
   "id": "1419aaf3",
   "metadata": {},
   "outputs": [
    {
     "data": {
      "text/plain": [
       "[(\"question for people who have a jojo body pillow where do you get it I can not find normal jojo body pillow anywhere I 've be look for age\",\n",
       "  0),\n",
       " ('I be just a freshman but today I beat up a senior fuck you grandma', 0),\n",
       " ('m bored asf someone pm I kinda horny and kinda bored filler filler filler filler filler',\n",
       "  0),\n",
       " (\"I 'll make assumption about u base off ur comment history I 'll make assumption about u base off ur comment history filler filler filler filler filler filler filler\",\n",
       "  0),\n",
       " ('this be so wire I do not know what to think anymore why be I interested in guy on day and the next week I m interested in girl again like when will my mind make up it be mind do I need to test both',\n",
       "  0)]"
      ]
     },
     "execution_count": 41,
     "metadata": {},
     "output_type": "execute_result"
    }
   ],
   "source": [
    "train_data = list(zip(train_texts, train_cats))\n",
    "val_data = list(zip(val_texts, val_cats))\n",
    "test_data = list(zip(test_texts, test_cats))\n",
    "train_data[:5]"
   ]
  },
  {
   "cell_type": "markdown",
   "id": "79a59731",
   "metadata": {},
   "source": [
    "## Spacy Training"
   ]
  },
  {
   "cell_type": "code",
   "execution_count": 12,
   "id": "6d84b7b7",
   "metadata": {},
   "outputs": [],
   "source": [
    "from spacy.tokens import DocBin"
   ]
  },
  {
   "cell_type": "code",
   "execution_count": 13,
   "id": "40ef12aa",
   "metadata": {},
   "outputs": [],
   "source": [
    "nlp = spacy.load('en_core_web_sm')"
   ]
  },
  {
   "cell_type": "code",
   "execution_count": 42,
   "id": "5651ae38",
   "metadata": {},
   "outputs": [],
   "source": [
    "def make_docs(data):\n",
    "    docs = []\n",
    "    for doc, label in nlp.pipe(data, as_tuples=True):\n",
    "        if label == 1:\n",
    "            doc.cats['POSITIVE'] = 1\n",
    "            doc.cats['NEGATIVE'] = 0\n",
    "        else:\n",
    "            doc.cats['POSITIVE'] = 0\n",
    "            doc.cats['NEGATIVE'] = 1\n",
    "        docs.append(doc)\n",
    "    return docs"
   ]
  },
  {
   "cell_type": "code",
   "execution_count": 43,
   "id": "3857e573",
   "metadata": {},
   "outputs": [],
   "source": [
    "train_docs = make_docs(train_data)\n",
    "doc_bin = DocBin(docs=train_docs)\n",
    "doc_bin.to_disk('./data/train.spacy')\n",
    "\n",
    "val_docs = make_docs(val_data)\n",
    "doc_bin = DocBin(docs=val_docs)\n",
    "doc_bin.to_disk('./data/val.spacy')"
   ]
  },
  {
   "cell_type": "code",
   "execution_count": 44,
   "id": "183629a6",
   "metadata": {},
   "outputs": [
    {
     "name": "stdout",
     "output_type": "stream",
     "text": [
      "[+] Auto-filled config with all values\n",
      "[+] Saved config\n",
      "config.cfg\n",
      "You can now add your data and train your pipeline:\n",
      "python -m spacy train config.cfg --paths.train ./train.spacy --paths.dev ./dev.spacy\n"
     ]
    }
   ],
   "source": [
    "!python -m spacy init fill-config base_config.cfg config.cfg"
   ]
  },
  {
   "cell_type": "code",
   "execution_count": 47,
   "id": "df59fffb",
   "metadata": {},
   "outputs": [],
   "source": [
    "import os\n",
    "os.environ['KMP_DUPLICATE_LIB_OK']='True'"
   ]
  },
  {
   "cell_type": "code",
   "execution_count": 48,
   "id": "4d43775c",
   "metadata": {},
   "outputs": [
    {
     "name": "stdout",
     "output_type": "stream",
     "text": [
      "[i] Saving to output directory: output\n",
      "[i] Using CPU\n",
      "\u001b[1m\n",
      "=========================== Initializing pipeline ===========================\u001b[0m\n",
      "[+] Initialized pipeline\n",
      "\u001b[1m\n",
      "============================= Training pipeline =============================\u001b[0m\n",
      "[i] Pipeline: ['textcat']\n",
      "[i] Initial learn rate: 0.001\n",
      "E    #       LOSS TEXTCAT  CATS_SCORE  SCORE \n",
      "---  ------  ------------  ----------  ------\n",
      "  0       0          0.12       24.25    0.24\n",
      "  0     200         36.26       68.87    0.69\n",
      "  0     400         12.03       84.12    0.84\n",
      "  0     600          9.78       85.12    0.85\n",
      "  0     800          3.21       86.35    0.86\n",
      "  0    1000          1.99       87.74    0.88\n",
      "  0    1200          0.87       87.61    0.88\n",
      "  0    1400          0.60       88.98    0.89\n",
      "  0    1600          0.31       89.43    0.89\n",
      "  0    1800          0.22       89.59    0.90\n",
      "  0    2000          0.13       90.03    0.90\n",
      "  0    2200          0.08       89.95    0.90\n",
      "  0    2400          0.05       90.28    0.90\n",
      "  0    2600          0.05       90.66    0.91\n",
      "  0    2800          0.04       90.78    0.91\n",
      "  0    3000          0.04       90.82    0.91\n",
      "  0    3200          0.04       90.96    0.91\n",
      "  0    3400          0.04       91.01    0.91\n",
      "  0    3600          0.04       90.91    0.91\n",
      "  0    3800          0.04       91.26    0.91\n",
      "  0    4000          0.04       91.17    0.91\n",
      "  0    4200          0.04       91.07    0.91\n",
      "  0    4400          0.04       90.96    0.91\n",
      "  0    4600          0.04       91.50    0.92\n",
      "  0    4800          0.04       91.31    0.91\n",
      "  0    5000          0.04       91.53    0.92\n",
      "  0    5200          0.04       91.12    0.91\n",
      "  0    5400          0.04       91.39    0.91\n",
      "  0    5600          0.04       91.55    0.92\n",
      "  1    5800          0.03       91.59    0.92\n",
      "  1    6000          0.03       91.64    0.92\n",
      "  1    6200          0.03       91.67    0.92\n",
      "  1    6400          0.03       91.59    0.92\n",
      "  1    6600          0.03       91.43    0.91\n",
      "  1    6800          0.03       91.62    0.92\n",
      "  1    7000          0.04       91.68    0.92\n",
      "  1    7200          0.03       91.63    0.92\n",
      "  1    7400          0.03       91.36    0.91\n",
      "  1    7600          0.03       91.56    0.92\n",
      "  1    7800          0.03       91.75    0.92\n",
      "  1    8000          0.03       91.61    0.92\n",
      "  1    8200          0.03       91.61    0.92\n",
      "  1    8400          0.03       91.84    0.92\n",
      "  1    8600          0.04       91.60    0.92\n",
      "  1    8800          0.03       91.92    0.92\n",
      "  1    9000          0.04       91.90    0.92\n",
      "  1    9200          0.04       91.85    0.92\n",
      "  1    9400          0.03       91.85    0.92\n",
      "  1    9600          0.03       92.03    0.92\n",
      "  2    9800          0.04       91.80    0.92\n",
      "  2   10000          0.03       91.77    0.92\n",
      "  2   10200          0.03       91.78    0.92\n",
      "  2   10400          0.03       91.89    0.92\n",
      "  2   10600          0.03       91.81    0.92\n",
      "  2   10800          0.03       91.91    0.92\n",
      "  2   11000          0.03       92.08    0.92\n",
      "  2   11200          0.03       92.09    0.92\n",
      "  2   11400          0.03       92.05    0.92\n",
      "  2   11600          0.03       92.12    0.92\n",
      "  2   11800          0.03       92.14    0.92\n",
      "  2   12000          0.03       92.19    0.92\n",
      "  2   12200          0.03       92.08    0.92\n",
      "  2   12400          0.03       92.15    0.92\n",
      "  2   12600          0.03       92.12    0.92\n",
      "  2   12800          0.03       92.08    0.92\n",
      "  2   13000          0.03       92.15    0.92\n",
      "  2   13200          0.03       92.06    0.92\n",
      "  2   13400          0.03       91.97    0.92\n",
      "  2   13600          0.03       92.00    0.92\n",
      "[+] Saved pipeline to output directory\n",
      "output\\model-last\n"
     ]
    },
    {
     "name": "stderr",
     "output_type": "stream",
     "text": [
      "[2022-05-13 22:19:46,800] [INFO] Set up nlp object from config\n",
      "[2022-05-13 22:19:46,807] [INFO] Pipeline: ['textcat']\n",
      "[2022-05-13 22:19:46,809] [INFO] Created vocabulary\n",
      "[2022-05-13 22:19:46,810] [INFO] Finished initializing nlp object\n",
      "[2022-05-13 22:21:19,926] [INFO] Initialized pipeline components: ['textcat']\n"
     ]
    }
   ],
   "source": [
    "!python -m spacy train config.cfg --output ./output --paths.train ./data/train.spacy --paths.dev ./data/val.spacy"
   ]
  },
  {
   "cell_type": "markdown",
   "id": "a7765381",
   "metadata": {},
   "source": [
    "## Test Model"
   ]
  },
  {
   "cell_type": "code",
   "execution_count": 51,
   "id": "c102fe92",
   "metadata": {},
   "outputs": [],
   "source": [
    "nlp = spacy.load('./output/model-best')"
   ]
  },
  {
   "cell_type": "code",
   "execution_count": 55,
   "id": "fd247330",
   "metadata": {},
   "outputs": [
    {
     "name": "stdout",
     "output_type": "stream",
     "text": [
      "Model's accuracy: 93.46823594190928\n"
     ]
    }
   ],
   "source": [
    "true_count = 0\n",
    "for doc, label in nlp.pipe(test_data, as_tuples=True):\n",
    "    if label == 1:\n",
    "        if doc.cats['POSITIVE'] > 0.5:\n",
    "            true_count += 1            \n",
    "    else:\n",
    "        if doc.cats['NEGATIVE'] > 0.5:\n",
    "            true_count += 1    \n",
    "\n",
    "print(f\"Model's accuracy: {(true_count/len(test_data))*100}\")"
   ]
  },
  {
   "cell_type": "code",
   "execution_count": 56,
   "id": "5aa36ffc",
   "metadata": {},
   "outputs": [
    {
     "data": {
      "text/plain": [
       "{'POSITIVE': 0.9128209352493286, 'NEGATIVE': 0.08717909455299377}"
      ]
     },
     "execution_count": 56,
     "metadata": {},
     "output_type": "execute_result"
    }
   ],
   "source": [
    "doc = nlp('i want to kill myself')\n",
    "doc.cats"
   ]
  },
  {
   "cell_type": "code",
   "execution_count": 57,
   "id": "043cade6",
   "metadata": {},
   "outputs": [
    {
     "data": {
      "text/plain": [
       "{'POSITIVE': 0.3176136910915375, 'NEGATIVE': 0.6823863387107849}"
      ]
     },
     "execution_count": 57,
     "metadata": {},
     "output_type": "execute_result"
    }
   ],
   "source": [
    "doc = nlp('im just sad')\n",
    "doc.cats"
   ]
  }
 ],
 "metadata": {
  "kernelspec": {
   "display_name": "Python 3 (ipykernel)",
   "language": "python",
   "name": "python3"
  },
  "language_info": {
   "codemirror_mode": {
    "name": "ipython",
    "version": 3
   },
   "file_extension": ".py",
   "mimetype": "text/x-python",
   "name": "python",
   "nbconvert_exporter": "python",
   "pygments_lexer": "ipython3",
   "version": "3.9.12"
  }
 },
 "nbformat": 4,
 "nbformat_minor": 5
}
